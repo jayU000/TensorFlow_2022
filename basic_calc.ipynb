{
 "cells": [
  {
   "cell_type": "code",
   "execution_count": 1,
   "metadata": {},
   "outputs": [
    {
     "name": "stdout",
     "output_type": "stream",
     "text": [
      "tf.Tensor(0, shape=(), dtype=int32)\n"
     ]
    }
   ],
   "source": [
    "import tensorflow as tf\n",
    "a = tf.constant(2)\n",
    "print(tf.rank(a))"
   ]
  },
  {
   "cell_type": "code",
   "execution_count": 2,
   "metadata": {},
   "outputs": [
    {
     "name": "stdout",
     "output_type": "stream",
     "text": [
      "tf.Tensor(1, shape=(), dtype=int32)\n"
     ]
    }
   ],
   "source": [
    "b = tf.constant([1, 2])\n",
    "print(tf.rank(b))"
   ]
  },
  {
   "cell_type": "code",
   "execution_count": 5,
   "metadata": {},
   "outputs": [
    {
     "name": "stdout",
     "output_type": "stream",
     "text": [
      "tf.Tensor(2, shape=(), dtype=int32)\n"
     ]
    }
   ],
   "source": [
    "c = tf.constant([[1, 2], [3, 4]])\n",
    "print(tf.rank(c))\n",
    "\n",
    "# d = tf.constant([1, 2], [3, 4])\n",
    "# print(tf.rank(d))"
   ]
  },
  {
   "cell_type": "code",
   "execution_count": 6,
   "metadata": {},
   "outputs": [
    {
     "name": "stdout",
     "output_type": "stream",
     "text": [
      "tf.Tensor(5, shape=(), dtype=int32)\n",
      "tf.Tensor(1, shape=(), dtype=int32)\n",
      "6\n",
      "1.5\n"
     ]
    }
   ],
   "source": [
    "import tensorflow as tf\n",
    "import numpy as np\n",
    "a = tf.constant(3)\n",
    "b = tf.constant(2)\n",
    "\n",
    "# 기본 연산\n",
    "# 텐서 형태로 출력\n",
    "print(tf.add(a, b))                     # 더하기    \n",
    "print(tf.subtract(a, b))                # 빼기\n",
    "\n",
    "# 넘파이 배열 형태로 출력\n",
    "print(tf.multiply(a, b).numpy())        # 곱하기\n",
    "print(tf.divide(a, b).numpy())          # 나누기"
   ]
  },
  {
   "cell_type": "code",
   "execution_count": 9,
   "metadata": {},
   "outputs": [
    {
     "name": "stdout",
     "output_type": "stream",
     "text": [
      "numpy array : 5.0, \n",
      "applying square with numpy : 25.0, \n",
      "convert_to_tensor : 25.0\n"
     ]
    }
   ],
   "source": [
    "c = tf.add(a, b).numpy()        # a와 b를 더한 후 numpy형태로 변환\n",
    "c_square = np.square(c, dtype = np.float32)     # numpy에 있는 square함수 적용 \n",
    "c_tensor = tf.convert_to_tensor(c_square)\n",
    "\n",
    "# 넘파이 배열과 텐서 각각을 확인하기 위해 출력\n",
    "print('numpy array : %0.1f, \\napplying square with numpy : %0.1f, \\nconvert_to_tensor : %0.1f' \n",
    "       % (c, c_square, c_tensor))"
   ]
  },
  {
   "cell_type": "code",
   "execution_count": null,
   "metadata": {},
   "outputs": [],
   "source": [
    "from tensorflow.math import sin, cos, tanh  # 수학에 관련된 모듈\n",
    "from tensorflow.linalg import diag, svd, matrix_transpose   # 선형대수학에 관련된 모듈"
   ]
  },
  {
   "cell_type": "code",
   "execution_count": 11,
   "metadata": {},
   "outputs": [
    {
     "name": "stdout",
     "output_type": "stream",
     "text": [
      "tf.Tensor(4, shape=(), dtype=int32)\n"
     ]
    }
   ],
   "source": [
    "import tensorflow as tf\n",
    "\n",
    "@tf.function\n",
    "def square_pos(x):\n",
    "    if x > 0 :\n",
    "        x = x * x\n",
    "    else :\n",
    "        x = x * -1\n",
    "    return x\n",
    "\n",
    "print(square_pos(tf.constant(2)))\n"
   ]
  },
  {
   "cell_type": "code",
   "execution_count": 12,
   "metadata": {},
   "outputs": [
    {
     "data": {
      "text/plain": [
       "<tensorflow.python.eager.def_function.Function at 0x1f261b70850>"
      ]
     },
     "execution_count": 12,
     "metadata": {},
     "output_type": "execute_result"
    }
   ],
   "source": [
    "@tf.function\n",
    "def square_pos(x):\n",
    "    if x > 0 :\n",
    "        x = x * x\n",
    "    else :\n",
    "        x = x * -1\n",
    "    return x\n",
    "    \n",
    "square_pos"
   ]
  },
  {
   "cell_type": "code",
   "execution_count": 13,
   "metadata": {},
   "outputs": [
    {
     "data": {
      "text/plain": [
       "<function __main__.square_pos(x)>"
      ]
     },
     "execution_count": 13,
     "metadata": {},
     "output_type": "execute_result"
    }
   ],
   "source": [
    "def square_pos(x):\n",
    "    if x > 0 :\n",
    "        x = x * x\n",
    "    else :\n",
    "        x = x * -1\n",
    "    return x\n",
    "\n",
    "square_pos"
   ]
  }
 ],
 "metadata": {
  "interpreter": {
   "hash": "c469c999aae2bf6d578d6881606ced546d1546d312a4811937df5b24665ee8bc"
  },
  "kernelspec": {
   "display_name": "Python 3.9.12 ('base')",
   "language": "python",
   "name": "python3"
  },
  "language_info": {
   "codemirror_mode": {
    "name": "ipython",
    "version": 3
   },
   "file_extension": ".py",
   "mimetype": "text/x-python",
   "name": "python",
   "nbconvert_exporter": "python",
   "pygments_lexer": "ipython3",
   "version": "3.9.12"
  },
  "orig_nbformat": 4
 },
 "nbformat": 4,
 "nbformat_minor": 2
}

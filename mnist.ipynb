{
 "cells": [
  {
   "cell_type": "code",
   "execution_count": 78,
   "metadata": {},
   "outputs": [],
   "source": [
    "# MNIST 데이터셋 받기 #\n",
    "\n",
    "from tensorflow.keras.datasets.mnist import load_data\n",
    "\n",
    "# 텐서플로우 저장소에서 데이터를 다운\n",
    "(x_train, y_train), (x_test, y_test) = load_data(path='mnist.npz') "
   ]
  },
  {
   "cell_type": "code",
   "execution_count": 48,
   "metadata": {},
   "outputs": [
    {
     "name": "stdout",
     "output_type": "stream",
     "text": [
      "(60000, 28, 28) (60000,)\n",
      "[5 0 4 ... 5 6 8]\n",
      "(10000, 28, 28) (10000,)\n",
      "[7 2 1 ... 4 5 6]\n"
     ]
    }
   ],
   "source": [
    "# 데이터 형태 확인 #\n",
    "\n",
    "# 학습 데이터\n",
    "print(x_train.shape, y_train.shape)\n",
    "print(y_train)\n",
    "\n",
    "# 텍스트 데이터\n",
    "print(x_test.shape, y_test.shape)\n",
    "print(y_test)"
   ]
  },
  {
   "cell_type": "code",
   "execution_count": 52,
   "metadata": {},
   "outputs": [
    {
     "data": {
      "image/png": "[encoded data removed]",
      "text/plain": [
       "<Figure size 432x288 with 1 Axes>"
      ]
     },
     "metadata": {
      "needs_background": "light"
     },
     "output_type": "display_data"
    },
    {
     "data": {
      "image/png": "[encoded data removed]",
      "text/plain": [
       "<Figure size 432x288 with 1 Axes>"
      ]
     },
     "metadata": {
      "needs_background": "light"
     },
     "output_type": "display_data"
    },
    {
     "data": {
      "image/png": "[encoded data removed]",
      "text/plain": [
       "<Figure size 432x288 with 1 Axes>"
      ]
     },
     "metadata": {
      "needs_background": "light"
     },
     "output_type": "display_data"
    }
   ],
   "source": [
    "# 데이터 그려보기 #\n",
    "\n",
    "import matplotlib.pyplot as plt\n",
    "import numpy as np\n",
    "\n",
    "sample_size = 3\n",
    "# 0~59999의 범위에서 무작위로 세 개의 정수를 뽑음\n",
    "random_idx = np.random.randint(60000, size=sample_size)\n",
    "\n",
    "for idx in random_idx:\n",
    "    img = x_train[idx, :]\n",
    "    label = y_train[idx]\n",
    "    plt.figure()\n",
    "    plt.imshow(img)\n",
    "    plt.title('%d-th data, labe is %d' %(idx, label))"
   ]
  },
  {
   "cell_type": "code",
   "execution_count": 53,
   "metadata": {},
   "outputs": [
    {
     "name": "stdout",
     "output_type": "stream",
     "text": [
      "훈련데이터 (42000, 28, 28) 레이블 (42000,)\n",
      "검증데이터 (18000, 28, 28) 레이블 (18000,)\n"
     ]
    }
   ],
   "source": [
    "# 검증 데이터 만들기 #\n",
    "\n",
    "from sklearn.model_selection import train_test_split\n",
    "\n",
    "# 훈련 / 테스트 데이터를 0.7/0.3의 비율로 분리\n",
    "x_train, x_val, y_train, y_val = train_test_split(x_train, y_train, \n",
    "                                                  test_size = 0.3, random_state = 777)\n",
    "print(f'훈련데이터 {x_train.shape} 레이블 {y_train.shape}')\n",
    "print(f'검증데이터 {x_val.shape} 레이블 {y_val.shape}')"
   ]
  },
  {
   "cell_type": "code",
   "execution_count": 54,
   "metadata": {},
   "outputs": [
    {
     "name": "stdout",
     "output_type": "stream",
     "text": [
      "(42000, 784)\n"
     ]
    }
   ],
   "source": [
    "# 모델 입력을 위한 데이터 전처리 #\n",
    "\n",
    "num_x_train = x_train.shape[0]\n",
    "num_x_val = x_val.shape[0]\n",
    "num_x_test = x_test.shape[0]\n",
    "\n",
    "# 모델의 입력으로 사용하기 위한 전처리 과정\n",
    "x_train = (x_train.reshape((num_x_train, 28 * 28))) / 255\n",
    "x_val = (x_val.reshape((num_x_val, 28 * 28))) / 255\n",
    "x_test = (x_test.reshape((num_x_test, 28 * 28))) / 255\n",
    "\n",
    "print(x_train.shape)    # 모델 입력을 위해 데이터를 784차원으로 변경\n"
   ]
  },
  {
   "cell_type": "code",
   "execution_count": 55,
   "metadata": {},
   "outputs": [
    {
     "name": "stdout",
     "output_type": "stream",
     "text": [
      "[[0. 0. 1. ... 0. 0. 0.]\n",
      " [0. 0. 0. ... 1. 0. 0.]\n",
      " [0. 0. 0. ... 0. 0. 0.]\n",
      " ...\n",
      " [0. 0. 0. ... 0. 0. 0.]\n",
      " [0. 0. 0. ... 0. 0. 0.]\n",
      " [0. 0. 0. ... 0. 0. 0.]]\n"
     ]
    }
   ],
   "source": [
    "# 모델을 위한 레이블 전처리\n",
    "\n",
    "from tensorflow.keras.utils import to_categorical\n",
    "\n",
    "# 각 데이터의 레이블을 범주형 형태로 변경\n",
    "y_train = to_categorical(y_train)\n",
    "y_val = to_categorical(y_val)\n",
    "y_test = to_categorical(y_test)\n",
    "\n",
    "print(y_train)\n"
   ]
  },
  {
   "cell_type": "code",
   "execution_count": 56,
   "metadata": {},
   "outputs": [],
   "source": [
    "# 모델 구성하기\n",
    "\n",
    "from tensorflow.keras.models import Sequential\n",
    "from tensorflow.keras.layers import Dense\n",
    "\n",
    "model = Sequential()\n",
    "\n",
    "# 입력 형태를 꼭 명시\n",
    "# 748차원의 데이터를 입력받고 64개릐 출력을 가지는 첫번째 Dense층\n",
    "model.add(Dense(64, activation = 'relu', input_shape = (784, )))\n",
    "model.add(Dense(32, activation = 'relu'))       # 32개의 출력을 가지는 Dense층\n",
    "model.add(Dense(10, activation = 'softmax'))    # 10개의 출력을 가지는 신경망\n"
   ]
  },
  {
   "cell_type": "code",
   "execution_count": 57,
   "metadata": {},
   "outputs": [
    {
     "name": "stdout",
     "output_type": "stream",
     "text": [
      "sigmoid [0.957 0.953 0.948], softmax [0.367 0.332 0.301]\n",
      "sigmoid [0.881 0.731 0.668], softmax [0.61  0.224 0.166]\n"
     ]
    }
   ],
   "source": [
    "# 소프트맥스와 시그모이드 값의 비교 #\n",
    "\n",
    "def softmax(arr):\n",
    "    m = np.max(arr)\n",
    "    arr = arr - m   # exp의 오버플로우 방지\n",
    "    arr = np.exp(arr)\n",
    "    return arr / np.sum(arr)\n",
    "\n",
    "def sigmoid(x):\n",
    "    return 1 / (1 + np.exp(-x))\n",
    "\n",
    "case_1 = np.array([3.1, 3.0, 2.9])\n",
    "case_2 = np.array([2.0, 1.0, 0.7])\n",
    "\n",
    "np.set_printoptions(precision=3)   # numpy 소수점 제한 \n",
    "print(f'sigmoid {sigmoid(case_1)}, softmax {softmax(case_1)}')\n",
    "print(f'sigmoid {sigmoid(case_2)}, softmax {softmax(case_2)}')\n"
   ]
  },
  {
   "cell_type": "code",
   "execution_count": 58,
   "metadata": {},
   "outputs": [],
   "source": [
    "model.compile(optimizer='adam', loss = 'categorical_crossentropy', metrics = ['acc'])\n",
    "            # 옵티마이저: Adam, 손실함수: categorical_crossentropy, 모니터할 평가지표: acc"
   ]
  },
  {
   "cell_type": "code",
   "execution_count": 59,
   "metadata": {},
   "outputs": [
    {
     "name": "stdout",
     "output_type": "stream",
     "text": [
      "Epoch 1/30\n",
      "329/329 [==============================] - 1s 3ms/step - loss: 0.4978 - acc: 0.8611 - val_loss: 0.2500 - val_acc: 0.9288\n",
      "Epoch 2/30\n",
      "329/329 [==============================] - 1s 2ms/step - loss: 0.2139 - acc: 0.9389 - val_loss: 0.1897 - val_acc: 0.9471\n",
      "Epoch 3/30\n",
      "329/329 [==============================] - 1s 2ms/step - loss: 0.1621 - acc: 0.9526 - val_loss: 0.1587 - val_acc: 0.9547\n",
      "Epoch 4/30\n",
      "329/329 [==============================] - 1s 2ms/step - loss: 0.1292 - acc: 0.9626 - val_loss: 0.1392 - val_acc: 0.9583\n",
      "Epoch 5/30\n",
      "329/329 [==============================] - 1s 2ms/step - loss: 0.1084 - acc: 0.9685 - val_loss: 0.1297 - val_acc: 0.9612\n",
      "Epoch 6/30\n",
      "329/329 [==============================] - 1s 2ms/step - loss: 0.0913 - acc: 0.9734 - val_loss: 0.1269 - val_acc: 0.9617\n",
      "Epoch 7/30\n",
      "329/329 [==============================] - 1s 2ms/step - loss: 0.0789 - acc: 0.9770 - val_loss: 0.1186 - val_acc: 0.9649\n",
      "Epoch 8/30\n",
      "329/329 [==============================] - 1s 2ms/step - loss: 0.0695 - acc: 0.9796 - val_loss: 0.1071 - val_acc: 0.9685\n",
      "Epoch 9/30\n",
      "329/329 [==============================] - 1s 2ms/step - loss: 0.0602 - acc: 0.9822 - val_loss: 0.1031 - val_acc: 0.9684\n",
      "Epoch 10/30\n",
      "329/329 [==============================] - 1s 2ms/step - loss: 0.0517 - acc: 0.9845 - val_loss: 0.0975 - val_acc: 0.9716\n",
      "Epoch 11/30\n",
      "329/329 [==============================] - 1s 2ms/step - loss: 0.0449 - acc: 0.9866 - val_loss: 0.0968 - val_acc: 0.9719\n",
      "Epoch 12/30\n",
      "329/329 [==============================] - 1s 2ms/step - loss: 0.0405 - acc: 0.9881 - val_loss: 0.1007 - val_acc: 0.9711\n",
      "Epoch 13/30\n",
      "329/329 [==============================] - 1s 2ms/step - loss: 0.0369 - acc: 0.9893 - val_loss: 0.0991 - val_acc: 0.9711\n",
      "Epoch 14/30\n",
      "329/329 [==============================] - 1s 2ms/step - loss: 0.0329 - acc: 0.9907 - val_loss: 0.1009 - val_acc: 0.9709\n",
      "Epoch 15/30\n",
      "329/329 [==============================] - 1s 2ms/step - loss: 0.0265 - acc: 0.9925 - val_loss: 0.1055 - val_acc: 0.9708\n",
      "Epoch 16/30\n",
      "329/329 [==============================] - 1s 2ms/step - loss: 0.0239 - acc: 0.9930 - val_loss: 0.1098 - val_acc: 0.9698\n",
      "Epoch 17/30\n",
      "329/329 [==============================] - 1s 2ms/step - loss: 0.0212 - acc: 0.9944 - val_loss: 0.1082 - val_acc: 0.9702\n",
      "Epoch 18/30\n",
      "329/329 [==============================] - 1s 2ms/step - loss: 0.0177 - acc: 0.9950 - val_loss: 0.1169 - val_acc: 0.9689\n",
      "Epoch 19/30\n",
      "329/329 [==============================] - 1s 2ms/step - loss: 0.0183 - acc: 0.9945 - val_loss: 0.1224 - val_acc: 0.9688\n",
      "Epoch 20/30\n",
      "329/329 [==============================] - 1s 2ms/step - loss: 0.0142 - acc: 0.9963 - val_loss: 0.1163 - val_acc: 0.9715\n",
      "Epoch 21/30\n",
      "329/329 [==============================] - 1s 2ms/step - loss: 0.0147 - acc: 0.9957 - val_loss: 0.1145 - val_acc: 0.9722\n",
      "Epoch 22/30\n",
      "329/329 [==============================] - 1s 2ms/step - loss: 0.0138 - acc: 0.9959 - val_loss: 0.1165 - val_acc: 0.9717\n",
      "Epoch 23/30\n",
      "329/329 [==============================] - 1s 2ms/step - loss: 0.0111 - acc: 0.9971 - val_loss: 0.1195 - val_acc: 0.9715\n",
      "Epoch 24/30\n",
      "329/329 [==============================] - 1s 2ms/step - loss: 0.0074 - acc: 0.9986 - val_loss: 0.1222 - val_acc: 0.9721\n",
      "Epoch 25/30\n",
      "329/329 [==============================] - 1s 2ms/step - loss: 0.0059 - acc: 0.9989 - val_loss: 0.1187 - val_acc: 0.9729\n",
      "Epoch 26/30\n",
      "329/329 [==============================] - 1s 2ms/step - loss: 0.0072 - acc: 0.9983 - val_loss: 0.1368 - val_acc: 0.9695\n",
      "Epoch 27/30\n",
      "329/329 [==============================] - 1s 2ms/step - loss: 0.0155 - acc: 0.9950 - val_loss: 0.1557 - val_acc: 0.9677\n",
      "Epoch 28/30\n",
      "329/329 [==============================] - 1s 2ms/step - loss: 0.0062 - acc: 0.9985 - val_loss: 0.1343 - val_acc: 0.9723\n",
      "Epoch 29/30\n",
      "329/329 [==============================] - 1s 2ms/step - loss: 0.0068 - acc: 0.9981 - val_loss: 0.1472 - val_acc: 0.9694\n",
      "Epoch 30/30\n",
      "329/329 [==============================] - 1s 2ms/step - loss: 0.0060 - acc: 0.9983 - val_loss: 0.1450 - val_acc: 0.9708\n"
     ]
    }
   ],
   "source": [
    "history = model.fit(x_train, y_train, epochs=30, \n",
    "                    batch_size = 128, validation_data = (x_val, y_val))"
   ]
  },
  {
   "cell_type": "code",
   "execution_count": 60,
   "metadata": {},
   "outputs": [
    {
     "data": {
      "text/plain": [
       "dict_keys(['loss', 'acc', 'val_loss', 'val_acc'])"
      ]
     },
     "execution_count": 60,
     "metadata": {},
     "output_type": "execute_result"
    }
   ],
   "source": [
    "history.history.keys()"
   ]
  },
  {
   "cell_type": "code",
   "execution_count": 61,
   "metadata": {},
   "outputs": [
    {
     "data": {
      "image/png": "[encoded data removed]",
      "text/plain": [
       "<Figure size 720x360 with 2 Axes>"
      ]
     },
     "metadata": {
      "needs_background": "light"
     },
     "output_type": "display_data"
    }
   ],
   "source": [
    "import matplotlib.pyplot as plt\n",
    "\n",
    "his_dict = history.history\n",
    "loss = his_dict['loss']\n",
    "val_loss = his_dict['val_loss']     # 검증 데이터가 있는 경우 val_ 수식어가 붙음.\n",
    "\n",
    "epochs = range(1, len(loss) + 1)\n",
    "fig = plt.figure(figsize = (10, 5))\n",
    "\n",
    "# 학습 및 검증 손실 그리기\n",
    "ax1 = fig.add_subplot(1, 2, 1)\n",
    "ax1.plot(epochs, loss, color = 'blue', label = 'train_loss')\n",
    "ax1.plot(epochs, val_loss, color = 'orange', label = 'val_loss')\n",
    "ax1.set_title('train and val loss')\n",
    "ax1.set_xlabel('epochs')\n",
    "ax1.set_ylabel('loss')\n",
    "ax1.legend()\n",
    "\n",
    "acc = his_dict['acc']\n",
    "val_acc = his_dict['val_acc']\n",
    "\n",
    "# 학습 및 검증 정확도 그리기\n",
    "ax2 = fig.add_subplot(1, 2, 2)\n",
    "ax2.plot(epochs, acc, color = 'blue', label = 'train_acc')\n",
    "ax2.plot(epochs, val_acc, color = 'orange', label = 'val_acc')\n",
    "ax2.set_title('train and val acc')\n",
    "ax2.set_xlabel('epochs', color = 'white')\n",
    "ax2.set_ylabel('loss', color = 'white')\n",
    "ax2.legend()\n",
    "\n",
    "plt.show()"
   ]
  },
  {
   "cell_type": "code",
   "execution_count": 62,
   "metadata": {},
   "outputs": [
    {
     "name": "stdout",
     "output_type": "stream",
     "text": [
      "313/313 [==============================] - 0s 962us/step - loss: 0.1357 - acc: 0.9722\n"
     ]
    },
    {
     "data": {
      "text/plain": [
       "[0.13569855690002441, 0.9721999764442444]"
      ]
     },
     "execution_count": 62,
     "metadata": {},
     "output_type": "execute_result"
    }
   ],
   "source": [
    "# 모델 평가 #\n",
    "\n",
    "model.evaluate(x_test, y_test)"
   ]
  },
  {
   "cell_type": "code",
   "execution_count": 64,
   "metadata": {},
   "outputs": [
    {
     "name": "stdout",
     "output_type": "stream",
     "text": [
      "313/313 [==============================] - 0s 834us/step\n",
      "(10000, 10)\n",
      "각 클래스에 속할 확률 : \n",
      "[6.6534264e-11 9.0544638e-12 7.2131094e-08 5.6964541e-06 6.1563182e-17\n",
      " 8.1391775e-11 1.3131139e-23 9.9999404e-01 1.1257046e-09 9.9756342e-08]\n"
     ]
    }
   ],
   "source": [
    "# 학습된 모델을 통해 값 예측 #\n",
    "\n",
    "import numpy as np\n",
    "\n",
    "results = model.predict(x_test)\n",
    "print(results.shape)\n",
    "np.set_printoptions(precision=7)\n",
    "print(f'각 클래스에 속할 확률 : \\n{results [0]}')"
   ]
  },
  {
   "cell_type": "code",
   "execution_count": 65,
   "metadata": {},
   "outputs": [
    {
     "data": {
      "image/png": "[encoded data removed]",
      "text/plain": [
       "<Figure size 432x288 with 1 Axes>"
      ]
     },
     "metadata": {
      "needs_background": "light"
     },
     "output_type": "display_data"
    }
   ],
   "source": [
    "# 예측값 그려서 확인 #\n",
    "\n",
    "import matplotlib.pyplot as plt\n",
    "\n",
    "arg_results = np.argmax(results, axis = -1)     # 가장 큰 값의 인덱스를 가져온다\n",
    "plt.imshow(x_test[0].reshape(28, 28))\n",
    "plt.title('predicted value of the first image : ' + str(arg_results[0]))\n",
    "plt.show()"
   ]
  },
  {
   "cell_type": "code",
   "execution_count": 70,
   "metadata": {},
   "outputs": [
    {
     "data": {
      "image/png": "[encoded data removed]",
      "text/plain": [
       "<Figure size 504x504 with 2 Axes>"
      ]
     },
     "metadata": {
      "needs_background": "light"
     },
     "output_type": "display_data"
    }
   ],
   "source": [
    "# 모델 평가 방법 1 - 혼동 행렬 #\n",
    "\n",
    "#sklearn.metrics 모듈은 여러 가지 편가지표에 관한 기능을 제공\n",
    "from sklearn.metrics import classification_report, confusion_matrix\n",
    "import matplotlib.pyplot as plt\n",
    "import seaborn as sns\n",
    "\n",
    "# 혼동행렬 만들기\n",
    "plt.figure(figsize = (7, 7))\n",
    "cm = confusion_matrix(np.argmax(y_test, axis = -1), np.argmax(results, axis = -1))\n",
    "sns.heatmap(cm, annot = True, fmt = 'd', cmap = 'Blues')\n",
    "plt.xlabel('predicted label')\n",
    "plt.ylabel('true label')\n",
    "plt.show()"
   ]
  },
  {
   "cell_type": "code",
   "execution_count": 71,
   "metadata": {},
   "outputs": [
    {
     "name": "stdout",
     "output_type": "stream",
     "text": [
      "\n",
      "               precision    recall  f1-score   support\n",
      "\n",
      "           0       0.97      0.99      0.98       980\n",
      "           1       0.99      0.99      0.99      1135\n",
      "           2       0.97      0.98      0.97      1032\n",
      "           3       0.95      0.98      0.96      1010\n",
      "           4       0.97      0.97      0.97       982\n",
      "           5       0.99      0.93      0.96       892\n",
      "           6       0.98      0.97      0.98       958\n",
      "           7       0.97      0.96      0.97      1028\n",
      "           8       0.96      0.97      0.96       974\n",
      "           9       0.97      0.97      0.97      1009\n",
      "\n",
      "    accuracy                           0.97     10000\n",
      "   macro avg       0.97      0.97      0.97     10000\n",
      "weighted avg       0.97      0.97      0.97     10000\n",
      "\n"
     ]
    }
   ],
   "source": [
    "# 모델 평가 방법 2 - 분류 보고서 #\n",
    "\n",
    "print('\\n', classification_report(np.argmax(y_test, axis = -1), np.argmax(results, axis = -1)))"
   ]
  },
  {
   "cell_type": "code",
   "execution_count": 81,
   "metadata": {},
   "outputs": [],
   "source": [
    "# MNIST 데이터셋 다루기 : 전체 코드 # \n",
    "\n",
    "import tensorflow as tf\n",
    "from tensorflow.keras.datasets.mnist import load_data\n",
    "from tensorflow.keras.models import Sequential\n",
    "from tensorflow.keras.layers import Dense\n",
    "from tensorflow.keras.utils import to_categorical\n",
    "\n",
    "from sklearn.model_selection import train_test_split\n",
    "tf.random.set_seed(777)\n",
    "\n",
    "(x_train, y_train), (x_test, y_test) = load_data(path='mnist.npz')\n",
    "\n",
    "x_train, x_val, y_train, y_val = train_test_split(x_train, y_train, test_size = 0.3, random_state = 777)\n",
    "\n",
    "num_x_train = x_train.shape[0]\n",
    "num_x_val = x_val.shape[0]\n",
    "num_x_test = x_test.shape[0]\n",
    "\n",
    "x_train = (x_train.reshape((num_x_train, 28 * 28))) / 255\n",
    "x_val = (x_val.reshape((num_x_val, 28 * 28))) / 255\n",
    "x_test = (x_test.reshape((num_x_test, 28 * 28))) / 255\n",
    "\n",
    "y_train = to_categorical(y_train)\n",
    "y_val = to_categorical(y_val)\n",
    "y_test = to_categorical(y_test)\n",
    "\n",
    "model = Sequential()\n",
    "model.add(Dense(64, activation = 'relu', input_shape = (783, )))\n",
    "model.add(Dense(32, activation = 'relu'))\n",
    "model.add(Dense(10, activation = 'softmax'))\n",
    "\n",
    "model.compile(optimizer = 'adam', loss = 'categorical_crossentropy', metrics = ['acc'])\n",
    "\n",
    "history = model.fit(x_train, y_train, \n",
    "                    epochs = 30, \n",
    "                    batch_size = 128, \n",
    "                    validation_data = (x_val, y_val))\n",
    "\n",
    "# model.evaludate(x_test, y_test)\n",
    "results = model.predict(x_test)\n"
   ]
  }
 ],
 "metadata": {
  "interpreter": {
   "hash": "c469c999aae2bf6d578d6881606ced546d1546d312a4811937df5b24665ee8bc"
  },
  "kernelspec": {
   "display_name": "Python 3.9.12 ('base')",
   "language": "python",
   "name": "python3"
  },
  "language_info": {
   "codemirror_mode": {
    "name": "ipython",
    "version": 3
   },
   "file_extension": ".py",
   "mimetype": "text/x-python",
   "name": "python",
   "nbconvert_exporter": "python",
   "pygments_lexer": "ipython3",
   "version": "3.9.12"
  },
  "orig_nbformat": 4
 },
 "nbformat": 4,
 "nbformat_minor": 2
}
